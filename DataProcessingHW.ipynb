{
  "nbformat": 4,
  "nbformat_minor": 0,
  "metadata": {
    "colab": {
      "provenance": []
    },
    "kernelspec": {
      "name": "python3",
      "display_name": "Python 3"
    },
    "language_info": {
      "name": "python"
    }
  },
  "cells": [
    {
      "cell_type": "markdown",
      "source": [
        "**1- Normalization/Standardization**: Since there are not continuous numerical features in my datasets i cant do normalization or standardization.\n",
        "\n",
        "**2-Quantify:** i Convert 4 columns (Gender,Ever_Married, Graduated, Spending_Score) from categorical variables into numerical.\n",
        "\n",
        "**3-Summarize:** I used this to generate descriptive statistics for the numerical columns.\n",
        "\n",
        "**4- Aggregate:** i used it to summarize data based on group the average age by gender.\n",
        "\n",
        "**5-Combine:** I used it to merge df1 and df2 based on the CustomerID column."
      ],
      "metadata": {
        "id": "63d5Izr2dBqV"
      }
    },
    {
      "cell_type": "code",
      "source": [
        "# Import necessary libraries\n",
        "import pandas as pd\n",
        "from sklearn.preprocessing import MinMaxScaler, StandardScaler, LabelEncoder\n",
        "import numpy as np\n",
        "import matplotlib.pyplot as plt\n",
        "import seaborn as sns\n",
        "import requests\n",
        "from io import BytesIO"
      ],
      "metadata": {
        "id": "aoFuwRPIZPmc"
      },
      "execution_count": null,
      "outputs": []
    },
    {
      "cell_type": "code",
      "execution_count": null,
      "metadata": {
        "colab": {
          "base_uri": "https://localhost:8080/"
        },
        "id": "cbsj_w18Y4_C",
        "outputId": "0e5860c6-c10e-491b-92d2-8bf53e155945"
      },
      "outputs": [
        {
          "output_type": "stream",
          "name": "stdout",
          "text": [
            "df1 (CSV DataFrame):\n",
            "   CustomerID  Gender Ever_Married  Age Graduated  Profession  \\\n",
            "0        1001  Female          Yes   36       Yes    Engineer   \n",
            "1        1005    Male          Yes   37       Yes  Healthcare   \n",
            "2        1008  Female          Yes   69        No      Doctor   \n",
            "3        1010    Male          Yes   59        No   Executive   \n",
            "4        1013  Female           No   19        No   Marketing   \n",
            "\n",
            "   Work_Experience Spending_Score  Family_Size  \n",
            "0                0            Low            1  \n",
            "1                8        Average            4  \n",
            "2                0            Low            1  \n",
            "3               11           High            2  \n",
            "4                2            Low            4  \n",
            "\n",
            "df2 (Excel DataFrame):\n",
            "   CustomerID First_Name Last_Name  Phone_Number                     Address  \\\n",
            "0        1001      Frodo   Baggins    1234567890       123 Shire Lane, Shire   \n",
            "1        1005        Jon      Snow    8766783469            123 Dragons Road   \n",
            "2        1008   Sherlock    Holmes    8766783469               98 Clue Drive   \n",
            "3        1010      Peter    Parker    1235455421  25th Main Street, New York   \n",
            "4        1013        Don    Draper    1235432345            2039 Main Street   \n",
            "\n",
            "  Paying Customer Do_Not_Contact  \n",
            "0               Y              N  \n",
            "1               Y              N  \n",
            "2               N              N  \n",
            "3               Y              N  \n",
            "4               Y              N  \n"
          ]
        }
      ],
      "source": [
        "# URLs to the raw files on GitHub\n",
        "csv_url = 'https://raw.githubusercontent.com/norahsanad/Excel/main/CostumerInformation.csv'\n",
        "xlsx_url = 'https://raw.githubusercontent.com/norahsanad/Excel/main/CustomerCallListClean.xlsx'\n",
        "\n",
        "# Read the CSV file into DataFrame df1\n",
        "df1 = pd.read_csv(csv_url)\n",
        "\n",
        "# Fetch and read the Excel file into DataFrame df2\n",
        "response = requests.get(xlsx_url)\n",
        "file_data = BytesIO(response.content)\n",
        "df2 = pd.read_excel(file_data, engine='openpyxl')\n",
        "\n",
        "# Display the first few rows of each DataFrame\n",
        "print(\"df1 (CSV DataFrame):\")\n",
        "print(df1.head())\n",
        "\n",
        "print(\"\\ndf2 (Excel DataFrame):\")\n",
        "print(df2.head())\n"
      ]
    },
    {
      "cell_type": "code",
      "source": [
        "# Quantify / Transform categorical variables into binary (0 and 1)\n",
        "df1['Gender'] = df1['Gender'].map({'Male': 1, 'Female': 0})\n",
        "df1['Ever_Married'] = df1['Ever_Married'].map({'Yes': 1, 'No': 0})\n",
        "df1['Graduated'] = df1['Graduated'].map({'Yes': 1, 'No': 0})\n",
        "df1['Spending_Score'] = df1['Spending_Score'].map({'High': 1, 'Average': 1, 'Low': 0})\n",
        "\n",
        "# Combine / Merge df1 and df2 on CustomerID\n",
        "df_combined = pd.merge(df1, df2, on='CustomerID')\n",
        "\n",
        "# Aggregate / Calculate average age for each gender\n",
        "average_age_by_gender = df_combined.groupby('Gender')['Age'].mean()\n",
        "\n",
        "# Summarize / Generate descriptive statistics for numerical columns\n",
        "summary_stats = df_combined.describe()\n",
        "\n",
        "print(\"combined Datesets:\")\n",
        "print (df_combined)\n",
        "\n",
        "print(\"\\nAverage Age by Gender:\")\n",
        "print(average_age_by_gender)\n",
        "\n",
        "print(\"\\nSummary Statistics:\")\n",
        "print(summary_stats)"
      ],
      "metadata": {
        "colab": {
          "base_uri": "https://localhost:8080/"
        },
        "id": "Q_BTGRsRiMwk",
        "outputId": "39da630a-c92d-42b7-df1b-79d211cc91c6"
      },
      "execution_count": null,
      "outputs": [
        {
          "output_type": "stream",
          "name": "stdout",
          "text": [
            "combined Datesets:\n",
            "   CustomerID  Gender  Ever_Married  Age  Graduated  Profession  \\\n",
            "0        1001       0             1   36          1    Engineer   \n",
            "1        1005       1             1   37          1  Healthcare   \n",
            "2        1008       0             1   69          0      Doctor   \n",
            "3        1010       1             1   59          0   Executive   \n",
            "4        1013       0             0   19          0   Marketing   \n",
            "5        1014       1             1   47          1      Doctor   \n",
            "6        1015       1             1   61          1      Doctor   \n",
            "7        1016       0             1   47          1      Artist   \n",
            "8        1017       1             1   50          1      Artist   \n",
            "9        1020       1             0   19          0  Healthcare   \n",
            "\n",
            "   Work_Experience  Spending_Score  Family_Size First_Name   Last_Name  \\\n",
            "0                0               0            1      Frodo     Baggins   \n",
            "1                8               1            4        Jon        Snow   \n",
            "2                0               0            1   Sherlock      Holmes   \n",
            "3               11               1            2      Peter      Parker   \n",
            "4                2               0            4        Don      Draper   \n",
            "5                0               1            5     Leslie       Knope   \n",
            "6                5               0            3       Toby  Flenderson   \n",
            "7                1               1            3        Ron     Weasley   \n",
            "8                2               1            4    Michael       Scott   \n",
            "9                0               0            4     Anakin   Skywalker   \n",
            "\n",
            "   Phone_Number                         Address Paying Customer Do_Not_Contact  \n",
            "0    1234567890           123 Shire Lane, Shire               Y              N  \n",
            "1    8766783469                123 Dragons Road               Y              N  \n",
            "2    8766783469                   98 Clue Drive               N              N  \n",
            "3    1235455421      25th Main Street, New York               Y              N  \n",
            "4    1235432345                2039 Main Street               Y              N  \n",
            "5    8766783469                343 City Parkway               Y              N  \n",
            "6    3047622467                   214 HR Avenue               N              N  \n",
            "7    1235455421            2395 Hogwarts Avenue               N              N  \n",
            "8    1236439775  121 Paper Avenue, Pennsylvania               Y              N  \n",
            "9    8766783469     910 Tatooine Road, Tatooine               Y              N  \n",
            "\n",
            "Average Age by Gender:\n",
            "Gender\n",
            "0    42.75\n",
            "1    45.50\n",
            "Name: Age, dtype: float64\n",
            "\n",
            "Summary Statistics:\n",
            "        CustomerID     Gender  Ever_Married        Age  Graduated  \\\n",
            "count    10.000000  10.000000     10.000000  10.000000  10.000000   \n",
            "mean   1011.900000   0.600000      0.800000  44.400000   0.600000   \n",
            "std       5.858517   0.516398      0.421637  16.847024   0.516398   \n",
            "min    1001.000000   0.000000      0.000000  19.000000   0.000000   \n",
            "25%    1008.500000   0.000000      1.000000  36.250000   0.000000   \n",
            "50%    1013.500000   1.000000      1.000000  47.000000   1.000000   \n",
            "75%    1015.750000   1.000000      1.000000  56.750000   1.000000   \n",
            "max    1020.000000   1.000000      1.000000  69.000000   1.000000   \n",
            "\n",
            "       Work_Experience  Spending_Score  Family_Size  Phone_Number  \n",
            "count        10.000000       10.000000     10.00000  1.000000e+01  \n",
            "mean          2.900000        0.500000      3.10000  4.429211e+09  \n",
            "std           3.871549        0.527046      1.37032  3.773693e+09  \n",
            "min           0.000000        0.000000      1.00000  1.234568e+09  \n",
            "25%           0.000000        0.000000      2.25000  1.235455e+09  \n",
            "50%           1.500000        0.500000      3.50000  2.142031e+09  \n",
            "75%           4.250000        1.000000      4.00000  8.766783e+09  \n",
            "max          11.000000        1.000000      5.00000  8.766783e+09  \n"
          ]
        }
      ]
    }
  ]
}