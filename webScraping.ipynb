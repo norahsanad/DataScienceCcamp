{
  "nbformat": 4,
  "nbformat_minor": 0,
  "metadata": {
    "colab": {
      "provenance": []
    },
    "kernelspec": {
      "name": "python3",
      "display_name": "Python 3"
    },
    "language_info": {
      "name": "python"
    }
  },
  "cells": [
    {
      "cell_type": "code",
      "execution_count": null,
      "metadata": {
        "colab": {
          "base_uri": "https://localhost:8080/"
        },
        "id": "_TC29wXJCNXF",
        "outputId": "12528f04-611d-41e5-8b33-f03b2a3d5b54"
      },
      "outputs": [
        {
          "output_type": "stream",
          "name": "stdout",
          "text": [
            "Requirement already satisfied: requests in /usr/local/lib/python3.10/dist-packages (2.31.0)\n",
            "Requirement already satisfied: charset-normalizer<4,>=2 in /usr/local/lib/python3.10/dist-packages (from requests) (3.3.2)\n",
            "Requirement already satisfied: idna<4,>=2.5 in /usr/local/lib/python3.10/dist-packages (from requests) (3.7)\n",
            "Requirement already satisfied: urllib3<3,>=1.21.1 in /usr/local/lib/python3.10/dist-packages (from requests) (2.0.7)\n",
            "Requirement already satisfied: certifi>=2017.4.17 in /usr/local/lib/python3.10/dist-packages (from requests) (2024.6.2)\n",
            "Requirement already satisfied: beautifulsoup4 in /usr/local/lib/python3.10/dist-packages (4.12.3)\n",
            "Requirement already satisfied: soupsieve>1.2 in /usr/local/lib/python3.10/dist-packages (from beautifulsoup4) (2.5)\n",
            "Requirement already satisfied: pandas in /usr/local/lib/python3.10/dist-packages (2.0.3)\n",
            "Requirement already satisfied: python-dateutil>=2.8.2 in /usr/local/lib/python3.10/dist-packages (from pandas) (2.8.2)\n",
            "Requirement already satisfied: pytz>=2020.1 in /usr/local/lib/python3.10/dist-packages (from pandas) (2023.4)\n",
            "Requirement already satisfied: tzdata>=2022.1 in /usr/local/lib/python3.10/dist-packages (from pandas) (2024.1)\n",
            "Requirement already satisfied: numpy>=1.21.0 in /usr/local/lib/python3.10/dist-packages (from pandas) (1.25.2)\n",
            "Requirement already satisfied: six>=1.5 in /usr/local/lib/python3.10/dist-packages (from python-dateutil>=2.8.2->pandas) (1.16.0)\n",
            "Requirement already satisfied: matplotlib in /usr/local/lib/python3.10/dist-packages (3.7.1)\n",
            "Requirement already satisfied: contourpy>=1.0.1 in /usr/local/lib/python3.10/dist-packages (from matplotlib) (1.2.1)\n",
            "Requirement already satisfied: cycler>=0.10 in /usr/local/lib/python3.10/dist-packages (from matplotlib) (0.12.1)\n",
            "Requirement already satisfied: fonttools>=4.22.0 in /usr/local/lib/python3.10/dist-packages (from matplotlib) (4.53.0)\n",
            "Requirement already satisfied: kiwisolver>=1.0.1 in /usr/local/lib/python3.10/dist-packages (from matplotlib) (1.4.5)\n",
            "Requirement already satisfied: numpy>=1.20 in /usr/local/lib/python3.10/dist-packages (from matplotlib) (1.25.2)\n",
            "Requirement already satisfied: packaging>=20.0 in /usr/local/lib/python3.10/dist-packages (from matplotlib) (24.1)\n",
            "Requirement already satisfied: pillow>=6.2.0 in /usr/local/lib/python3.10/dist-packages (from matplotlib) (9.4.0)\n",
            "Requirement already satisfied: pyparsing>=2.3.1 in /usr/local/lib/python3.10/dist-packages (from matplotlib) (3.1.2)\n",
            "Requirement already satisfied: python-dateutil>=2.7 in /usr/local/lib/python3.10/dist-packages (from matplotlib) (2.8.2)\n",
            "Requirement already satisfied: six>=1.5 in /usr/local/lib/python3.10/dist-packages (from python-dateutil>=2.7->matplotlib) (1.16.0)\n"
          ]
        }
      ],
      "source": [
        "!pip install requests\n",
        "!pip install beautifulsoup4\n",
        "!pip install pandas\n",
        "!pip install matplotlib"
      ]
    },
    {
      "cell_type": "code",
      "source": [
        "import requests\n",
        "from bs4 import BeautifulSoup\n",
        "import pandas as pd\n",
        "import matplotlib.pyplot as plt"
      ],
      "metadata": {
        "id": "xAsZI1izCSBT"
      },
      "execution_count": null,
      "outputs": []
    },
    {
      "cell_type": "code",
      "source": [
        "def clean_price(price_str):\n",
        "    # Remove unwanted characters and strip whitespace\n",
        "    price_str = price_str.replace('Â£', '').strip()\n",
        "    return float(price_str)"
      ],
      "metadata": {
        "id": "FHd189r2CUAq"
      },
      "execution_count": null,
      "outputs": []
    },
    {
      "cell_type": "code",
      "source": [
        "def scrape_page(url):\n",
        "    response = requests.get(url)\n",
        "    soup = BeautifulSoup(response.text, 'html.parser')\n",
        "\n",
        "    books = []\n",
        "    for article in soup.find_all('article', class_='product_pod'):\n",
        "        title = article.h3.a['title']\n",
        "        price = article.find('p', class_='price_color').text\n",
        "        rating = article.p['class'][1]\n",
        "\n",
        "        # Append book details to the list\n",
        "        books.append({\n",
        "            'title': title,\n",
        "            'price': clean_price(price),\n",
        "            'rating': rating\n",
        "        })\n",
        "    return books"
      ],
      "metadata": {
        "id": "Nja1_OLeCYHJ"
      },
      "execution_count": null,
      "outputs": []
    },
    {
      "cell_type": "code",
      "source": [
        "def scrape_books(base_url, num_pages):\n",
        "    all_books = []\n",
        "    for page in range(1, num_pages + 1):\n",
        "        url = f\"{base_url}/catalogue/page-{page}.html\"\n",
        "        books = scrape_page(url)\n",
        "        all_books.extend(books)\n",
        "    return all_books"
      ],
      "metadata": {
        "id": "IuzSUpTyCaCZ"
      },
      "execution_count": null,
      "outputs": []
    },
    {
      "cell_type": "code",
      "source": [
        "if __name__ == \"__main__\":\n",
        "    # Define base URL and number of pages to scrape\n",
        "    base_url = 'http://books.toscrape.com'\n",
        "    num_pages = 5  # Number of pages to scrape\n",
        "\n",
        "    # Scrape book data\n",
        "    books_data = scrape_books(base_url, num_pages)\n",
        "    df = pd.DataFrame(books_data)\n",
        "\n",
        "    # Display the first few rows of the DataFrame\n",
        "    print(df.head())\n",
        "\n",
        "    # Basic Statistics\n",
        "    average_price = df['price'].mean()\n",
        "    print(f'Average price of books: £{average_price:.2f}')\n",
        "\n",
        "    # Rating distribution\n",
        "    rating_counts = df['rating'].value_counts()\n",
        "    print('\\nRating distribution:')\n",
        "    print(rating_counts)\n",
        "\n",
        "    # Plotting the rating distribution\n",
        "    rating_counts.plot(kind='bar', title='Rating Distribution')\n",
        "    plt.xlabel('Rating')\n",
        "    plt.ylabel('Number of Books')\n",
        "    plt.show()"
      ],
      "metadata": {
        "colab": {
          "base_uri": "https://localhost:8080/",
          "height": 775
        },
        "id": "002txFEbCetn",
        "outputId": "f448064f-0959-44df-c488-10102b0993b0"
      },
      "execution_count": null,
      "outputs": [
        {
          "output_type": "stream",
          "name": "stdout",
          "text": [
            "                                   title  price rating\n",
            "0                   A Light in the Attic  51.77  Three\n",
            "1                     Tipping the Velvet  53.74    One\n",
            "2                             Soumission  50.10    One\n",
            "3                          Sharp Objects  47.82   Four\n",
            "4  Sapiens: A Brief History of Humankind  54.23   Five\n",
            "Average price of books: £34.56\n",
            "\n",
            "Rating distribution:\n",
            "rating\n",
            "Three    22\n",
            "One      22\n",
            "Five     19\n",
            "Two      19\n",
            "Four     18\n",
            "Name: count, dtype: int64\n"
          ]
        },
        {
          "output_type": "display_data",
          "data": {
            "text/plain": [
              "<Figure size 640x480 with 1 Axes>"
            ],
            "image/png": "[encoded data removed]"
          },
          "metadata": {}
        }
      ]
    }
  ]
}